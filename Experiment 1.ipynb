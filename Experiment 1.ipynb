{
 "cells": [
  {
   "cell_type": "markdown",
   "id": "7cc26958",
   "metadata": {},
   "source": [
    "### Experiment 1"
   ]
  },
  {
   "cell_type": "markdown",
   "id": "b0d0100d",
   "metadata": {},
   "source": [
    "Below given we have created all the logic gates and using the basic Logic Gates of AND , OR and NOT we have created XOR gates."
   ]
  },
  {
   "cell_type": "code",
   "execution_count": 1,
   "id": "15ccf87e",
   "metadata": {},
   "outputs": [],
   "source": [
    "def ANDlogic(x1,x2,w1=1,w2=1):\n",
    "    yin = x1*w1 + x2*w2\n",
    "    if (yin >=2 ):\n",
    "        return 1\n",
    "    else:\n",
    "        return 0\n",
    "    "
   ]
  },
  {
   "cell_type": "code",
   "execution_count": 2,
   "id": "5791391f",
   "metadata": {},
   "outputs": [],
   "source": [
    "def ORLogic(x1,x2,w1=1,w2=1):\n",
    "    yin = x1*w1 + x2*w2\n",
    "    if(yin==0):\n",
    "        return 0\n",
    "    else:\n",
    "        return 1"
   ]
  },
  {
   "cell_type": "code",
   "execution_count": 8,
   "id": "78ca7efc",
   "metadata": {},
   "outputs": [],
   "source": [
    "def NOTLogic(x1,w1=1):\n",
    "    yin = x1*w1\n",
    "    if(yin==0):\n",
    "        return 1\n",
    "    else:\n",
    "        return 0"
   ]
  },
  {
   "cell_type": "code",
   "execution_count": 11,
   "id": "186dac1a",
   "metadata": {},
   "outputs": [],
   "source": [
    "def XORLogic(x1,x2,w1=1):\n",
    "    output = ((NOTLogic(x1,w1)*x2) + (x1*NOTLogic(x2,w1)))\n",
    "    print(output)"
   ]
  },
  {
   "cell_type": "markdown",
   "id": "21a50c92",
   "metadata": {},
   "source": [
    "The output of the Logic Gates is given below and it is also verified and you can test this with different weights and as the initial setting I have changed the weights to 1"
   ]
  },
  {
   "cell_type": "code",
   "execution_count": 12,
   "id": "69f96e0f",
   "metadata": {},
   "outputs": [
    {
     "name": "stdout",
     "output_type": "stream",
     "text": [
      "0\n",
      "1\n",
      "1\n",
      "0\n"
     ]
    }
   ],
   "source": [
    "XORLogic(1,1,1)\n",
    "XORLogic(1,0,1)\n",
    "XORLogic(0,1,1)\n",
    "XORLogic(0,0,1)"
   ]
  },
  {
   "cell_type": "code",
   "execution_count": null,
   "id": "6a5a6785",
   "metadata": {},
   "outputs": [],
   "source": []
  }
 ],
 "metadata": {
  "kernelspec": {
   "display_name": "Python 3 (ipykernel)",
   "language": "python",
   "name": "python3"
  },
  "language_info": {
   "codemirror_mode": {
    "name": "ipython",
    "version": 3
   },
   "file_extension": ".py",
   "mimetype": "text/x-python",
   "name": "python",
   "nbconvert_exporter": "python",
   "pygments_lexer": "ipython3",
   "version": "3.9.13"
  }
 },
 "nbformat": 4,
 "nbformat_minor": 5
}
