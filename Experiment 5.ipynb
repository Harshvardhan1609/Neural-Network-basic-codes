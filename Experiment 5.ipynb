{
 "cells": [
  {
   "cell_type": "markdown",
   "id": "3d70ab61",
   "metadata": {},
   "source": [
    "### Experiment 5"
   ]
  },
  {
   "cell_type": "markdown",
   "id": "a07357dc",
   "metadata": {},
   "source": [
    "To Create an ADALINE Model for Logical OR function"
   ]
  },
  {
   "cell_type": "code",
   "execution_count": 3,
   "id": "ce3b798d",
   "metadata": {},
   "outputs": [],
   "source": [
    "def adaline(alp,w1,w2,b):\n",
    "    x1 = [-1,-1,1,1]\n",
    "    x2 = [-1,1,-1,1]\n",
    "    t = [-1,1,1,1]\n",
    "    E = []\n",
    "    for j in range(1,3):\n",
    "        for i in range(4):\n",
    "            yin = x1[i]*w1 + x2[i]*w2 + b\n",
    "            w1 = w1 + alp*(t[i]-yin)*x1[i]\n",
    "            w2 = w2 + alp*(t[i]-yin)*x2[i]\n",
    "            b = b + alp*(t[i]-yin)\n",
    "            Error  = (t[i]-yin)**2\n",
    "            E.append(Error)\n",
    "        print(\"weights and b\")\n",
    "        print(w1,w2,b)\n",
    "        print(\"Emean\",j)\n",
    "        print(sum(E)/4)\n",
    "        E.clear()"
   ]
  },
  {
   "cell_type": "code",
   "execution_count": 4,
   "id": "ac097411",
   "metadata": {},
   "outputs": [
    {
     "name": "stdout",
     "output_type": "stream",
     "text": [
      "weights and b\n",
      "0.24011 0.22031000000000003 0.25811\n",
      "Emean 1\n",
      "0.7844263525\n",
      "weights and b\n",
      "0.32722905100000005 0.298519871 0.353982851\n",
      "Emean 2\n",
      "0.5325514092613155\n"
     ]
    }
   ],
   "source": [
    "adaline(0.1,0.1,0.1,0.1)"
   ]
  },
  {
   "cell_type": "code",
   "execution_count": null,
   "id": "56b6484f",
   "metadata": {},
   "outputs": [],
   "source": []
  }
 ],
 "metadata": {
  "kernelspec": {
   "display_name": "Python 3 (ipykernel)",
   "language": "python",
   "name": "python3"
  },
  "language_info": {
   "codemirror_mode": {
    "name": "ipython",
    "version": 3
   },
   "file_extension": ".py",
   "mimetype": "text/x-python",
   "name": "python",
   "nbconvert_exporter": "python",
   "pygments_lexer": "ipython3",
   "version": "3.9.13"
  }
 },
 "nbformat": 4,
 "nbformat_minor": 5
}
