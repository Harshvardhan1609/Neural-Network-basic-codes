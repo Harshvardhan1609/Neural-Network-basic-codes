{
 "cells": [
  {
   "cell_type": "markdown",
   "id": "f6adf30f",
   "metadata": {},
   "source": [
    " #### Experiment 4"
   ]
  },
  {
   "cell_type": "markdown",
   "id": "2e40ddfb",
   "metadata": {},
   "source": [
    "To implement Perceptron Classifier on Diabetes Dataset"
   ]
  },
  {
   "cell_type": "code",
   "execution_count": 1,
   "id": "2be0ec00",
   "metadata": {},
   "outputs": [],
   "source": [
    "import pandas as pd\n",
    "import numpy as np\n",
    "import matplotlib.pyplot as plt\n",
    "import seaborn as sns\n",
    "from sklearn.model_selection import train_test_split\n",
    "from sklearn.linear_model import Perceptron\n",
    "from sklearn.metrics import accuracy_score\n",
    "from sklearn.metrics import confusion_matrix, ConfusionMatrixDisplay"
   ]
  },
  {
   "cell_type": "markdown",
   "id": "e41e4e4f",
   "metadata": {},
   "source": [
    "Importing the data set and performing the required EDA"
   ]
  },
  {
   "cell_type": "code",
   "execution_count": 2,
   "id": "d9aef2c0",
   "metadata": {},
   "outputs": [],
   "source": [
    "my_data = pd.read_csv('diabetes.csv')"
   ]
  },
  {
   "cell_type": "code",
   "execution_count": 4,
   "id": "8c7fb183",
   "metadata": {},
   "outputs": [],
   "source": [
    "x = my_data.iloc[:,[0,1,2,3,4,5,6,7]].values"
   ]
  },
  {
   "cell_type": "code",
   "execution_count": 5,
   "id": "451604c9",
   "metadata": {},
   "outputs": [],
   "source": [
    "y = my_data['Outcome']"
   ]
  },
  {
   "cell_type": "code",
   "execution_count": 9,
   "id": "13e56765",
   "metadata": {},
   "outputs": [],
   "source": [
    "X_train , X_test , y_train , y_test = train_test_split(x,y,test_size=0.25,random_state=63)"
   ]
  },
  {
   "cell_type": "code",
   "execution_count": 10,
   "id": "c0deb8f2",
   "metadata": {},
   "outputs": [
    {
     "data": {
      "text/plain": [
       "Perceptron()"
      ]
     },
     "execution_count": 10,
     "metadata": {},
     "output_type": "execute_result"
    }
   ],
   "source": [
    "Classifier = Perceptron(random_state=0)\n",
    "Classifier.fit(X_train, y_train)"
   ]
  },
  {
   "cell_type": "code",
   "execution_count": 12,
   "id": "d78ec9e7",
   "metadata": {},
   "outputs": [],
   "source": [
    "y_pred = Classifier.predict(X_test)"
   ]
  },
  {
   "cell_type": "markdown",
   "id": "76fe49a8",
   "metadata": {},
   "source": [
    "Accuracy score and confusion matrix display of the following"
   ]
  },
  {
   "cell_type": "code",
   "execution_count": 13,
   "id": "67795e71",
   "metadata": {},
   "outputs": [],
   "source": [
    "score = accuracy_score(y_test,y_pred)"
   ]
  },
  {
   "cell_type": "code",
   "execution_count": 14,
   "id": "ea0c1fef",
   "metadata": {},
   "outputs": [
    {
     "name": "stdout",
     "output_type": "stream",
     "text": [
      "0.6979166666666666\n"
     ]
    }
   ],
   "source": [
    "print(score)"
   ]
  },
  {
   "cell_type": "code",
   "execution_count": 15,
   "id": "c701b11c",
   "metadata": {},
   "outputs": [],
   "source": [
    "cm = confusion_matrix(y_test,y_pred)"
   ]
  },
  {
   "cell_type": "code",
   "execution_count": 16,
   "id": "b6acf6a8",
   "metadata": {},
   "outputs": [],
   "source": [
    "disp = ConfusionMatrixDisplay(confusion_matrix=cm)"
   ]
  },
  {
   "cell_type": "code",
   "execution_count": 17,
   "id": "3df0b48d",
   "metadata": {},
   "outputs": [
    {
     "data": {
      "text/plain": [
       "<sklearn.metrics._plot.confusion_matrix.ConfusionMatrixDisplay at 0x205ecca43d0>"
      ]
     },
     "execution_count": 17,
     "metadata": {},
     "output_type": "execute_result"
    },
    {
     "data": {
      "image/png": "[encoded data removed]",
      "text/plain": [
       "<Figure size 640x480 with 2 Axes>"
      ]
     },
     "metadata": {},
     "output_type": "display_data"
    }
   ],
   "source": [
    "disp.plot()"
   ]
  },
  {
   "cell_type": "code",
   "execution_count": null,
   "id": "1748887c",
   "metadata": {},
   "outputs": [],
   "source": []
  }
 ],
 "metadata": {
  "kernelspec": {
   "display_name": "Python 3 (ipykernel)",
   "language": "python",
   "name": "python3"
  },
  "language_info": {
   "codemirror_mode": {
    "name": "ipython",
    "version": 3
   },
   "file_extension": ".py",
   "mimetype": "text/x-python",
   "name": "python",
   "nbconvert_exporter": "python",
   "pygments_lexer": "ipython3",
   "version": "3.9.13"
  }
 },
 "nbformat": 4,
 "nbformat_minor": 5
}
